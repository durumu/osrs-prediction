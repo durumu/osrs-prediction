{
 "cells": [
  {
   "cell_type": "code",
   "execution_count": 133,
   "metadata": {},
   "outputs": [],
   "source": [
    "import numpy as np\n",
    "import pandas as pd\n",
    "import matplotlib.pyplot as plt\n",
    "import seaborn as sns\n",
    "import os\n",
    "import requests"
   ]
  },
  {
   "cell_type": "code",
   "execution_count": 93,
   "metadata": {
    "scrolled": false
   },
   "outputs": [],
   "source": [
    "def make_frame(content):\n",
    "    prices = {}\n",
    "    for line in content.split('\\n'):\n",
    "        if '{' in line or '}' in line:\n",
    "            continue\n",
    "        data = (\n",
    "            line\n",
    "            .lstrip().lstrip(\"'\")\n",
    "            .rstrip().rstrip(\"',\")\n",
    "            .split(':')\n",
    "        )\n",
    "        if len(data) < 3:\n",
    "            data.append(np.nan)\n",
    "        secs, price, volume = data\n",
    "        prices[int(secs)] = (int(price), float(volume))\n",
    "        \n",
    "    price_frame = pd.DataFrame(prices, index = ['price', 'volume']).T\n",
    "    price_frame.index = pd.to_datetime(price_frame.index, unit = 's')\n",
    "    \n",
    "    return price_frame\n",
    "\n",
    "def fetch_from_wiki(item_name):\n",
    "    # Construction custom user-agent for query\n",
    "    custom_agent = {\n",
    "        'User-Agent': 'JuliasGEScraper',\n",
    "        'From': 'julia.graham@protonmail.com' \n",
    "    }\n",
    "    \n",
    "    page_title = f'Module:Exchange/{item_name}/Data'\n",
    "\n",
    "    # Construct the para.meters of the API query\n",
    "    parameters = {\n",
    "        'action': 'parse',\n",
    "        'prop': 'wikitext',\n",
    "        'format': 'json',\n",
    "        'page': page_title,\n",
    "    }\n",
    "\n",
    "    # Call the API using the custom user-agent and parameters\n",
    "    result = requests.get('https://oldschool.runescape.wiki/api.php', \n",
    "                            headers=custom_agent, \n",
    "                            params=parameters).json()\n",
    "    \n",
    "    content = result['parse']['wikitext']['*']\n",
    "    return make_frame(content)"
   ]
  },
  {
   "cell_type": "code",
   "execution_count": 101,
   "metadata": {},
   "outputs": [],
   "source": [
    "def item_file(item_name):\n",
    "    return os.path.join('data', f'{item_name}.csv')\n",
    "\n",
    "def fetch_from_disk(item_name):\n",
    "    file_name = item_file(item_name)\n",
    "    if not os.path.isfile(file_name):\n",
    "        return None\n",
    "    price_frame = pd.read_csv(file_name).set_index('Unnamed: 0')\n",
    "    del price_frame.index.name\n",
    "    return price_frame"
   ]
  },
  {
   "cell_type": "code",
   "execution_count": 102,
   "metadata": {},
   "outputs": [],
   "source": [
    "price_cache = {}\n",
    "def fetch(item_name):\n",
    "    # check if it's in RAM\n",
    "    if item_name in price_cache:\n",
    "        return price_cache[item_name]\n",
    "    \n",
    "    # if not, check if it's on disk\n",
    "    price_frame = fetch_from_disk(item_name)\n",
    "    if price_frame is not None:\n",
    "        price_cache[item_name] = price_frame\n",
    "        return price_frame\n",
    "    \n",
    "    # if not, fetch it from the wiki\n",
    "    price_frame = fetch_from_wiki(item_name)\n",
    "    price_frame.to_csv(item_file(item_name))\n",
    "    price_cache[item_name] = price_frame\n",
    "    return price_frame"
   ]
  },
  {
   "cell_type": "code",
   "execution_count": 163,
   "metadata": {},
   "outputs": [],
   "source": [
    "def returns(item_name):\n",
    "    prices = fetch(item_name)['price']\n",
    "    return ((prices - prices.shift(1)) / prices).dropna()\n",
    "\n",
    "def gold_traded(item_name):\n",
    "    prices = fetch(item_name)['price'] \n",
    "    volumes = fetch(item_name)['volume']\n",
    "    return (prices * volumes).dropna()"
   ]
  },
  {
   "cell_type": "code",
   "execution_count": 149,
   "metadata": {},
   "outputs": [],
   "source": [
    "from sklearn.linear_model import LinearRegression\n",
    "\n",
    "def to_2d_array(df):\n",
    "    if type(df) is pd.Series:\n",
    "        return df.values.reshape(-1, 1)\n",
    "    elif type(df) is pd.DataFrame:\n",
    "        return df.values\n",
    "    else:\n",
    "        return df\n",
    "\n",
    "def beta(pred, resp, plot = False):\n",
    "    pred_rets, resp_rets = returns(pred), returns(resp)\n",
    "    common_index = pred_rets.index & resp_rets.index\n",
    "    pred_rets = pred_rets.reindex(common_index)\n",
    "    resp_rets = resp_rets.reindex(common_index)\n",
    "    \n",
    "    X = to_2d_array(pred_rets)\n",
    "    y = to_2d_array(resp_rets)\n",
    "    \n",
    "    model = LinearRegression(fit_intercept = True)\n",
    "    model.fit(X, y)\n",
    "    \n",
    "    if plot:\n",
    "        sns.regplot(pred_rets, resp_rets)\n",
    "    \n",
    "    return model.coef_[0, 0]"
   ]
  },
  {
   "cell_type": "code",
   "execution_count": 158,
   "metadata": {},
   "outputs": [
    {
     "data": {
      "text/plain": [
       "0.49148996244342574"
      ]
     },
     "execution_count": 158,
     "metadata": {},
     "output_type": "execute_result"
    },
    {
     "data": {
      "image/png": "[encoded data removed]",
      "text/plain": [
       "<Figure size 432x288 with 1 Axes>"
      ]
     },
     "metadata": {
      "needs_background": "light"
     },
     "output_type": "display_data"
    }
   ],
   "source": [
    "beta('Ranarr weed', 'Prayer potion(4)', True)"
   ]
  },
  {
   "cell_type": "code",
   "execution_count": 164,
   "metadata": {},
   "outputs": [
    {
     "data": {
      "text/plain": [
       "2018-12-25    4.206017e+09\n",
       "2018-12-26    4.380019e+09\n",
       "2018-12-27    9.353532e+09\n",
       "2018-12-28    3.363760e+09\n",
       "2018-12-29    1.004723e+10\n",
       "                  ...     \n",
       "2019-08-09    3.346883e+09\n",
       "2019-08-10    5.281955e+09\n",
       "2019-08-11    6.836683e+08\n",
       "2019-08-12    2.594793e+08\n",
       "2019-08-13    3.819941e+08\n",
       "Length: 230, dtype: float64"
      ]
     },
     "execution_count": 164,
     "metadata": {},
     "output_type": "execute_result"
    }
   ],
   "source": [
    "gold_traded('Ranarr weed')"
   ]
  },
  {
   "cell_type": "code",
   "execution_count": 165,
   "metadata": {},
   "outputs": [
    {
     "data": {
      "text/plain": [
       "2018-12-25    1.028830e+10\n",
       "2018-12-26    1.057575e+10\n",
       "2018-12-27    2.471387e+10\n",
       "2018-12-28    9.047859e+09\n",
       "2018-12-29    2.435836e+10\n",
       "                  ...     \n",
       "2019-08-09    8.037459e+09\n",
       "2019-08-10    1.393458e+10\n",
       "2019-08-11    1.790661e+09\n",
       "2019-08-12    8.640351e+08\n",
       "2019-08-13    8.021917e+08\n",
       "Length: 230, dtype: float64"
      ]
     },
     "execution_count": 165,
     "metadata": {},
     "output_type": "execute_result"
    }
   ],
   "source": [
    "gold_traded('Prayer potion(4)')"
   ]
  },
  {
   "cell_type": "code",
   "execution_count": null,
   "metadata": {},
   "outputs": [],
   "source": []
  }
 ],
 "metadata": {
  "kernelspec": {
   "display_name": "Python 3",
   "language": "python",
   "name": "python3"
  },
  "language_info": {
   "codemirror_mode": {
    "name": "ipython",
    "version": 3
   },
   "file_extension": ".py",
   "mimetype": "text/x-python",
   "name": "python",
   "nbconvert_exporter": "python",
   "pygments_lexer": "ipython3",
   "version": "3.7.4"
  }
 },
 "nbformat": 4,
 "nbformat_minor": 2
}
